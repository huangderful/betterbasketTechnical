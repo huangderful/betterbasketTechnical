{
 "cells": [
  {
   "cell_type": "markdown",
   "metadata": {},
   "source": [
    "# Better Basket Technical Assessment\n",
    "#### Read JSONs and Initialize MATCH_SCORE_THRESHOLD (more on this later)"
   ]
  },
  {
   "cell_type": "code",
   "execution_count": null,
   "metadata": {},
   "outputs": [],
   "source": [
    "import json\n",
    "MATCH_SCORE_THRESHOLD = 70.0\n",
    "with open(\"grocery_store_a.json\", 'r', encoding=\"utf-8\") as file:\n",
    "    grocery_store_a = json.load(file)\n",
    "with open(\"grocery_store_b.json\", 'r', encoding=\"utf-8\") as file:\n",
    "    grocery_store_b = json.load(file)"
   ]
  },
  {
   "cell_type": "markdown",
   "metadata": {},
   "source": [
    "### Use Beautiful Soup to scrape Grocery Store B's Products\n",
    "Specifically getting the name, price, amount, and quantity bought. Would use Selenium if this was on the web."
   ]
  },
  {
   "cell_type": "code",
   "execution_count": null,
   "metadata": {},
   "outputs": [
    {
     "name": "stdout",
     "output_type": "stream",
     "text": [
      "                                      Name   Price   Amount Quantity\n",
      "0                    SPRITE ZERO SUGAR 8PK   $4.75    10 OZ        1\n",
      "1           PAN PEPIN HOT DOG INTEGRAL 8PK   $3.19  12.5 OZ        1\n",
      "2            TORTILLA ESPANOLA CON CEBOLLA   $6.19  17.6 OZ        1\n",
      "3          CAMPBELLS CHUNKY CHICKEN NOODLE   $4.15  18.6 OZ        1\n",
      "4       KELLOGGS FROSTED FLAKES CEREAL CUP   $1.75   2.1 OZ        1\n",
      "...                                    ...     ...      ...      ...\n",
      "12797  PLEDGE MULTI SURFACE TRIGGER CITRUS   $6.29    25 OZ        1\n",
      "12798         DEPEND UNDERWEAR SM/MED MALE  $29.99    44 CT        1\n",
      "12799               LISBOA SALMON PORTIONS  $13.29     2 LB        1\n",
      "12800           GOYA NECTAR PINA & GUAYABA   $1.99  33.8 OZ        1\n",
      "12801       BORDEN MAGNOLIA CONDENSED MILK   $3.15    14 OZ        1\n",
      "\n",
      "[12802 rows x 4 columns]\n"
     ]
    }
   ],
   "source": [
    "from bs4 import BeautifulSoup\n",
    "import pandas as pd\n",
    "products = []\n",
    "for i in range(len(grocery_store_b)):\n",
    "    soup = BeautifulSoup(grocery_store_b[i]['data']['html_data'], \"html.parser\")\n",
    "    for item in soup.find_all(\"div\", class_=\"product-grid-item\"):\n",
    "        name = item.find(\"h3\").text.strip() if item.find(\"h3\") else None\n",
    "        price = item.find(\"p\", class_=\"precio\").text.strip() if item.find(\"p\", class_=\"precio\") else None\n",
    "        amount = item.find(\"p\", class_=\"text-center text-muted\").text.strip() if item.find(\"p\", class_=\"text-center text-muted\") else None\n",
    "        quantity = item.find(\"input\", {\"name\": \"qty\"})[\"value\"] if item.find(\"input\", {\"name\": \"qty\"}) else None\n",
    "        \n",
    "        products.append([name, price, amount, quantity])\n",
    "grocery_store_b_df = pd.DataFrame(products, columns=[\"Name\", \"Price\", \"Amount\", \"Quantity\"])\n",
    "\n",
    "print(grocery_store_b_df)"
   ]
  },
  {
   "cell_type": "markdown",
   "metadata": {},
   "source": [
    "Checking how many rows have quanitity greater than 1. This number 295 ends up being the same as the number of rows with the #/$#.# format."
   ]
  },
  {
   "cell_type": "code",
   "execution_count": 18,
   "metadata": {},
   "outputs": [
    {
     "name": "stdout",
     "output_type": "stream",
     "text": [
      "Number of rows where Quantity > 1: 295\n"
     ]
    }
   ],
   "source": [
    "# Convert the 'Quantity' column to numeric, forcing errors to NaN (if any)\n",
    "grocery_store_b_df['Quantity'] = pd.to_numeric(grocery_store_b_df['Quantity'], errors='coerce')\n",
    "\n",
    "# Count the number of rows where Quantity > 1\n",
    "count_quantity_greater_than_1 = grocery_store_b_df[grocery_store_b_df['Quantity'] > 1].shape[0]\n",
    "\n",
    "print(f\"Number of rows where Quantity > 1: {count_quantity_greater_than_1}\")\n"
   ]
  },
  {
   "cell_type": "markdown",
   "metadata": {},
   "source": [
    "### Price Normalization of Grocery Store B\n",
    "Goal: Have price be represented as a float value \\\n",
    "How? TL;DR: Rejex to match each format then remove unnecessary pieces to form the float"
   ]
  },
  {
   "cell_type": "markdown",
   "metadata": {},
   "source": [
    "Case 1: $#.#, the easy case. Remove the dollar sign and convert it to a float."
   ]
  },
  {
   "cell_type": "code",
   "execution_count": null,
   "metadata": {},
   "outputs": [
    {
     "name": "stdout",
     "output_type": "stream",
     "text": [
      "Rows with incorrectly formatted prices:\n",
      "                                    Name     Price    Amount  Quantity\n",
      "17         BACALAO FILETE SIN ESPINAS EU  $9.59 LB  POR PESO         1\n",
      "21             KRAFT EXTRA SHARP CHEDDAR   2/$5.00      8 OZ         2\n",
      "22                        GATORADE GRAPE   5/$5.00   33.8 OZ         5\n",
      "24                        SUPERMAX ELBOW       99¢   14.1 OZ         1\n",
      "36                 LECHUGA ICEBERG CELLO   2/$3.00      1 EA         2\n",
      "...                                  ...       ...       ...       ...\n",
      "12653  SIERRA CORTE SELECTO CONG ECUADOR  $5.49 LB  POR PESO         1\n",
      "12695  PAVO CONGELADO GRADO A 16-22LB US  $2.79 LB  POR PESO         1\n",
      "12731    DORADO REBANADO CONG DE ECUADOR  $3.99 LB  POR PESO         1\n",
      "12737                      PEPSI REGULAR       75¢   1.25 LT         1\n",
      "12752                        7UP REGULAR       75¢   1.25 LT         1\n",
      "\n",
      "[833 rows x 4 columns]\n",
      "                                      Name  Price   Amount  Quantity\n",
      "0                    SPRITE ZERO SUGAR 8PK   4.75    10 OZ         1\n",
      "1           PAN PEPIN HOT DOG INTEGRAL 8PK   3.19  12.5 OZ         1\n",
      "2            TORTILLA ESPANOLA CON CEBOLLA   6.19  17.6 OZ         1\n",
      "3          CAMPBELLS CHUNKY CHICKEN NOODLE   4.15  18.6 OZ         1\n",
      "4       KELLOGGS FROSTED FLAKES CEREAL CUP   1.75   2.1 OZ         1\n",
      "...                                    ...    ...      ...       ...\n",
      "12797  PLEDGE MULTI SURFACE TRIGGER CITRUS   6.29    25 OZ         1\n",
      "12798         DEPEND UNDERWEAR SM/MED MALE  29.99    44 CT         1\n",
      "12799               LISBOA SALMON PORTIONS  13.29     2 LB         1\n",
      "12800           GOYA NECTAR PINA & GUAYABA   1.99  33.8 OZ         1\n",
      "12801       BORDEN MAGNOLIA CONDENSED MILK   3.15    14 OZ         1\n",
      "\n",
      "[12802 rows x 4 columns]\n"
     ]
    }
   ],
   "source": [
    "# PRICE NORMALIZATION\n",
    "import re\n",
    "def check_price_format(price):\n",
    "    return bool(re.match(r'^\\$\\d+(\\.\\d{1,2})?$', price))\n",
    "\n",
    "# Identify rows where the price does not match the expected format\n",
    "incorrect_prices = grocery_store_b_df[~grocery_store_b_df['Price'].apply(check_price_format)]\n",
    "\n",
    "# Print rows where the price does not follow the \"$\" format\n",
    "print(\"Rows with incorrectly formatted prices:\")\n",
    "print(incorrect_prices)\n",
    "incorrect_prices.to_csv(\"incorrect_prices.csv\")\n",
    "# Identify valid rows where the price follows the correct format\n",
    "valid_rows = grocery_store_b_df['Price'].apply(check_price_format)\n",
    "\n",
    "# Convert only valid price rows to float by removing the \"$\" sign\n",
    "grocery_store_b_df.loc[valid_rows, 'Price'] = grocery_store_b_df.loc[valid_rows, 'Price'].replace(r'^\\$', '', regex=True).astype(float)\n",
    "grocery_store_b_df = grocery_store_b_df[valid_rows]\n",
    "print(grocery_store_b_df)"
   ]
  },
  {
   "cell_type": "markdown",
   "metadata": {},
   "source": [
    "Case 2: #¢; Remove the cent and divide by 100. \\\n",
    "\n",
    " Keep all remaining cases that don't match the rejex in the incorrect_prices dataframe and put corrected versions into their own new one. We will concatenate all the corrected dataframes in the end."
   ]
  },
  {
   "cell_type": "code",
   "execution_count": 21,
   "metadata": {},
   "outputs": [
    {
     "name": "stderr",
     "output_type": "stream",
     "text": [
      "C:\\Users\\richa\\AppData\\Local\\Temp\\ipykernel_33660\\2086008963.py:10: SettingWithCopyWarning: \n",
      "A value is trying to be set on a copy of a slice from a DataFrame.\n",
      "Try using .loc[row_indexer,col_indexer] = value instead\n",
      "\n",
      "See the caveats in the documentation: https://pandas.pydata.org/pandas-docs/stable/user_guide/indexing.html#returning-a-view-versus-a-copy\n",
      "  cent_prices['Price'] = cent_prices['Price'].apply(lambda x: float(x.replace('¢', '')) / 100)\n"
     ]
    },
    {
     "data": {
      "text/plain": [
       "(                                          Name  Price   Amount  Quantity\n",
       " 24                              SUPERMAX ELBOW   0.99  14.1 OZ         1\n",
       " 40                                 7UP REGULAR   0.95  1.75 LT         1\n",
       " 62        LIBBYS VIENNA SAUSAGE CHICKEN & PORK   0.83   4.6 OZ         1\n",
       " 109     GOYA HABICHUELAS ROSADAS EN AGUA Y SAL   0.93  10.5 OZ         1\n",
       " 118         MARUCHAN RAMEN NOODLE SOUP CHICKEN   0.59     3 OZ         1\n",
       " ...                                        ...    ...      ...       ...\n",
       " 12226                   BAUDUCCO WAFER COCONUT   0.95     5 OZ         1\n",
       " 12456                         TOP RAMEN SHRIMP   0.85     3 OZ         1\n",
       " 12464  PETIT NATURAL DEFENSE ZANAHORIA NARANJA   0.59  11.2 OZ         1\n",
       " 12737                            PEPSI REGULAR   0.75  1.25 LT         1\n",
       " 12752                              7UP REGULAR   0.75  1.25 LT         1\n",
       " \n",
       " [216 rows x 4 columns],\n",
       "                                            Name      Price    Amount  Quantity\n",
       " 17                BACALAO FILETE SIN ESPINAS EU   $9.59 LB  POR PESO         1\n",
       " 21                    KRAFT EXTRA SHARP CHEDDAR    2/$5.00      8 OZ         2\n",
       " 22                               GATORADE GRAPE    5/$5.00   33.8 OZ         5\n",
       " 36                        LECHUGA ICEBERG CELLO    2/$3.00      1 EA         2\n",
       " 37                           CALABAZA EN PEDAZO     47¢ LB  POR PESO         1\n",
       " ...                                         ...        ...       ...       ...\n",
       " 12541                    BH CUBE CHIPOTLE GOUDA  $11.59 LB  POR PESO         1\n",
       " 12638  SIERRA REBANADA CORTE MIXTO CONG ECUADOR   $4.99 LB  POR PESO         1\n",
       " 12653         SIERRA CORTE SELECTO CONG ECUADOR   $5.49 LB  POR PESO         1\n",
       " 12695         PAVO CONGELADO GRADO A 16-22LB US   $2.79 LB  POR PESO         1\n",
       " 12731           DORADO REBANADO CONG DE ECUADOR   $3.99 LB  POR PESO         1\n",
       " \n",
       " [617 rows x 4 columns])"
      ]
     },
     "execution_count": 21,
     "metadata": {},
     "output_type": "execute_result"
    }
   ],
   "source": [
    "import re\n",
    "\n",
    "def check_cent_format(price):\n",
    "    return bool(re.match(r'^\\d{1,2}¢$', price))\n",
    "\n",
    "# Apply the format check to filter correct cent prices\n",
    "cent_prices = incorrect_prices[incorrect_prices['Price'].apply(check_cent_format)]\n",
    "\n",
    "# Remove the cent sign and convert to float by dividing by 100\n",
    "cent_prices['Price'] = cent_prices['Price'].apply(lambda x: float(x.replace('¢', '')) / 100)\n",
    "\n",
    "# Get the remaining rows that do not match the cent format\n",
    "incorrect_prices = incorrect_prices[~incorrect_prices['Price'].apply(check_cent_format)]\n",
    "\n",
    "cent_prices, incorrect_prices\n"
   ]
  },
  {
   "cell_type": "markdown",
   "metadata": {},
   "source": [
    "Case 3: $#.# LB; Remove the dollar sign, LB, trim it and convert it to float."
   ]
  },
  {
   "cell_type": "code",
   "execution_count": 23,
   "metadata": {},
   "outputs": [
    {
     "name": "stdout",
     "output_type": "stream",
     "text": [
      "                                               Name  Price Amount  Quantity\n",
      "17                    BACALAO FILETE SIN ESPINAS EU   9.59  16 OZ         1\n",
      "38                                     MANZANA GALA   2.27  16 OZ         1\n",
      "42                                       PERA VERDE   2.27  16 OZ         1\n",
      "48     COSTILLAS COUNTRY STYLE FRESCA. US CON HUESO   3.19  16 OZ         1\n",
      "49          MASA MOLIDA DE RES CAB FRESCA CHOICE EU   6.79  16 OZ         1\n",
      "...                                             ...    ...    ...       ...\n",
      "12541                        BH CUBE CHIPOTLE GOUDA  11.59  16 OZ         1\n",
      "12638      SIERRA REBANADA CORTE MIXTO CONG ECUADOR   4.99  16 OZ         1\n",
      "12653             SIERRA CORTE SELECTO CONG ECUADOR   5.49  16 OZ         1\n",
      "12695             PAVO CONGELADO GRADO A 16-22LB US   2.79  16 OZ         1\n",
      "12731               DORADO REBANADO CONG DE ECUADOR   3.99  16 OZ         1\n",
      "\n",
      "[314 rows x 4 columns]                              Name    Price    Amount  Quantity\n",
      "21      KRAFT EXTRA SHARP CHEDDAR  2/$5.00      8 OZ         2\n",
      "22                 GATORADE GRAPE  5/$5.00   33.8 OZ         5\n",
      "36          LECHUGA ICEBERG CELLO  2/$3.00      1 EA         2\n",
      "37             CALABAZA EN PEDAZO   47¢ LB  POR PESO         1\n",
      "39     MOTTS APPLE JUICE ORIGINAL  2/$6.00     64 OZ         2\n",
      "...                           ...      ...       ...       ...\n",
      "12395     MINUTE MAID APPLE JUICE  4/$5.00     12 OZ         4\n",
      "12409    MINUTE MAID ORANGE JUICE  4/$5.00     12 OZ         4\n",
      "12422  MINUTE MAID TROPICAL BLEND  4/$5.00     12 OZ         4\n",
      "12499     PEPSI DIET MINI CAN 6PK  2/$5.00    7.5 OZ         2\n",
      "12514    PEPSI BLACK MINI CAN 6PK  2/$5.00    7.5 OZ         2\n",
      "\n",
      "[303 rows x 4 columns]\n"
     ]
    },
    {
     "name": "stderr",
     "output_type": "stream",
     "text": [
      "C:\\Users\\richa\\AppData\\Local\\Temp\\ipykernel_33660\\510796585.py:9: SettingWithCopyWarning: \n",
      "A value is trying to be set on a copy of a slice from a DataFrame.\n",
      "Try using .loc[row_indexer,col_indexer] = value instead\n",
      "\n",
      "See the caveats in the documentation: https://pandas.pydata.org/pandas-docs/stable/user_guide/indexing.html#returning-a-view-versus-a-copy\n",
      "  lb_prices['Price'] = lb_prices['Price'].apply(lambda x: float(x.replace('$', '').replace(' LB', '')))\n",
      "C:\\Users\\richa\\AppData\\Local\\Temp\\ipykernel_33660\\510796585.py:12: SettingWithCopyWarning: \n",
      "A value is trying to be set on a copy of a slice from a DataFrame.\n",
      "Try using .loc[row_indexer,col_indexer] = value instead\n",
      "\n",
      "See the caveats in the documentation: https://pandas.pydata.org/pandas-docs/stable/user_guide/indexing.html#returning-a-view-versus-a-copy\n",
      "  lb_prices['Amount'] = '16 OZ'\n"
     ]
    }
   ],
   "source": [
    "def check_LB_format(price):\n",
    "    return bool(re.match(r'^\\$\\d+(\\.\\d{1,2})?\\s*LB$', price))\n",
    "\n",
    "# Apply the format check to filter correct cent prices\n",
    "lb_prices = incorrect_prices[incorrect_prices['Price'].apply(check_LB_format)]\n",
    "\n",
    "# Remove the cent sign and convert to float by dividing by 100\n",
    "# Update the 'Price' column to reflect the actual price (convert cents to dollars)\n",
    "lb_prices['Price'] = lb_prices['Price'].apply(lambda x: float(x.replace('$', '').replace(' LB', '')))\n",
    "\n",
    "# Update the 'Amount' column to \"1lb\" for all rows in lb_prices\n",
    "lb_prices['Amount'] = '16 OZ'\n",
    "incorrect_prices = incorrect_prices[~incorrect_prices['Price'].apply(check_LB_format)]\n",
    "\n",
    "print(lb_prices, incorrect_prices)"
   ]
  },
  {
   "cell_type": "markdown",
   "metadata": {},
   "source": [
    "Case 4: #/$#.#; Get the first number which represents the num items, divide the price by num items and set quantity to 1 to emulate the price of buying 1 item"
   ]
  },
  {
   "cell_type": "code",
   "execution_count": null,
   "metadata": {},
   "outputs": [
    {
     "name": "stdout",
     "output_type": "stream",
     "text": [
      "                                 Name    Price   Amount  Quantity  is_match\n",
      "21          KRAFT EXTRA SHARP CHEDDAR  2/$5.00     8 OZ         2      True\n",
      "22                     GATORADE GRAPE  5/$5.00  33.8 OZ         5      True\n",
      "36              LECHUGA ICEBERG CELLO  2/$3.00     1 EA         2      True\n",
      "39         MOTTS APPLE JUICE ORIGINAL  2/$6.00    64 OZ         2      True\n",
      "45     KRAFT VELVEETA SLICES ORIGINAL  2/$5.00    12 OZ         2      True\n",
      "...                               ...      ...      ...       ...       ...\n",
      "12395         MINUTE MAID APPLE JUICE  4/$5.00    12 OZ         4      True\n",
      "12409        MINUTE MAID ORANGE JUICE  4/$5.00    12 OZ         4      True\n",
      "12422      MINUTE MAID TROPICAL BLEND  4/$5.00    12 OZ         4      True\n",
      "12499         PEPSI DIET MINI CAN 6PK  2/$5.00   7.5 OZ         2      True\n",
      "12514        PEPSI BLACK MINI CAN 6PK  2/$5.00   7.5 OZ         2      True\n",
      "\n",
      "[295 rows x 5 columns]\n"
     ]
    },
    {
     "name": "stderr",
     "output_type": "stream",
     "text": [
      "C:\\Users\\richa\\AppData\\Local\\Temp\\ipykernel_33660\\827262143.py:16: SettingWithCopyWarning: \n",
      "A value is trying to be set on a copy of a slice from a DataFrame.\n",
      "Try using .loc[row_indexer,col_indexer] = value instead\n",
      "\n",
      "See the caveats in the documentation: https://pandas.pydata.org/pandas-docs/stable/user_guide/indexing.html#returning-a-view-versus-a-copy\n",
      "  incorrect_prices['is_match'] = incorrect_prices.apply(check_price, axis=1)\n"
     ]
    }
   ],
   "source": [
    "import re\n",
    "import pandas as pd\n",
    "\n",
    "# Define the updated regex pattern\n",
    "pattern = r\"^\\s*(\\d+)\\s*\\/\\s*\\$(\\d+(\\.\\d{2})?)\\s*$\"\n",
    "\n",
    "# Function to check the condition\n",
    "def check_price(row):\n",
    "    match = re.match(pattern, row[\"Price\"])\n",
    "    if match:\n",
    "        first_number = int(match.group(1))  # The first number in the price\n",
    "        return first_number == row[\"Quantity\"]\n",
    "    return False\n",
    "\n",
    "# Apply the function to check each row\n",
    "incorrect_prices['is_match'] = incorrect_prices.apply(check_price, axis=1)\n",
    "# Filter rows where is_match is True and False\n",
    "division_prices = incorrect_prices[incorrect_prices['is_match'] == True]\n",
    "incorrect_prices = incorrect_prices[incorrect_prices['is_match'] == False]\n",
    "# Extracting the price before the '/' and converting it to a float\n",
    "division_prices['num_items'] = division_prices['Price'].apply(lambda x: float(x.split('/')[0].replace('$','').replace(',','')))\n",
    "\n",
    "# Extracting the price after the '$' sign and converting it to a float\n",
    "division_prices['Price'] = division_prices['Price'].apply(lambda x: float(x.split('$')[1].replace(',','')))\n",
    "# Divide Amount by num_items\n",
    "division_prices['Amount'] = division_prices.apply(lambda row: f\"{float(row['Amount'].split()[0]) / row['num_items']:.2f} {row['Amount'].split()[1]}\", axis=1)\n",
    "\n",
    "# Set all quantities to 1\n",
    "division_prices['Quantity'] = 1\n",
    "\n",
    "# Update the price by dividing it by num_items\n",
    "division_prices['Price'] = division_prices['Price'] / division_prices['num_items']\n",
    "\n",
    "# Drop the num_items column\n",
    "division_prices = division_prices.drop(columns=['num_items'])\n",
    "division_prices\n",
    "\n"
   ]
  },
  {
   "cell_type": "markdown",
   "metadata": {},
   "source": [
    "Case 5: #¢ LB, remove the cent sign, change the Amount to 16 OZ."
   ]
  },
  {
   "cell_type": "code",
   "execution_count": 31,
   "metadata": {},
   "outputs": [
    {
     "name": "stdout",
     "output_type": "stream",
     "text": [
      "                                  Name  Price Amount  Quantity  is_match\n",
      "37                  CALABAZA EN PEDAZO   0.47  16 OZ         1     False\n",
      "54               BATATA FRESCA SELECTA   0.77  16 OZ         1     False\n",
      "226                      BATATA BLANCA   0.77  16 OZ         1     False\n",
      "332        REMOLACHA FRESCA COSTA RICA   0.97  16 OZ         1     False\n",
      "733    MUSLOS DE POLLO FRESCOS F/P. EU   0.79  16 OZ         1     False\n",
      "1319                   CALABAZA ENTERA   0.37  16 OZ         1     False\n",
      "8144                     REPOLLO VERDE   0.87  16 OZ         1     False\n",
      "12284  CADERAS DE POLLO FRESCAS F/P EU   0.79  16 OZ         1     False\n",
      "Empty DataFrame\n",
      "Columns: [Name, Price, Amount, Quantity, is_match]\n",
      "Index: []\n"
     ]
    }
   ],
   "source": [
    "import re\n",
    "\n",
    "def check_cent_LB_format(price):\n",
    "    return bool(re.match(r'^\\d+¢\\s*LB$', price))\n",
    "\n",
    "# Apply the format check to filter correct cent prices\n",
    "cent_lb_prices = incorrect_prices[incorrect_prices['Price'].apply(check_cent_LB_format)]\n",
    "\n",
    "# Remove the cent symbol and convert to float (divide by 100 to convert cents to dollars)\n",
    "cent_lb_prices['Price'] = cent_lb_prices['Price'].apply(lambda x: float(x.replace('¢', '').replace(' LB', '')) / 100)\n",
    "\n",
    "# Update the 'Amount' column to \"1lb\" for all rows in cent_lb_prices\n",
    "cent_lb_prices['Amount'] = '16 OZ'\n",
    "\n",
    "# Filter out the rows with 'cent LB' format from incorrect_prices\n",
    "incorrect_prices = incorrect_prices[~incorrect_prices['Price'].apply(check_cent_LB_format)]\n",
    "\n",
    "print(cent_lb_prices)\n",
    "print(incorrect_prices)\n"
   ]
  },
  {
   "cell_type": "markdown",
   "metadata": {},
   "source": [
    "Concat all the normalized DFs"
   ]
  },
  {
   "cell_type": "code",
   "execution_count": 32,
   "metadata": {},
   "outputs": [
    {
     "data": {
      "text/html": [
       "<div>\n",
       "<style scoped>\n",
       "    .dataframe tbody tr th:only-of-type {\n",
       "        vertical-align: middle;\n",
       "    }\n",
       "\n",
       "    .dataframe tbody tr th {\n",
       "        vertical-align: top;\n",
       "    }\n",
       "\n",
       "    .dataframe thead th {\n",
       "        text-align: right;\n",
       "    }\n",
       "</style>\n",
       "<table border=\"1\" class=\"dataframe\">\n",
       "  <thead>\n",
       "    <tr style=\"text-align: right;\">\n",
       "      <th></th>\n",
       "      <th>Name</th>\n",
       "      <th>Price</th>\n",
       "      <th>Amount</th>\n",
       "      <th>Quantity</th>\n",
       "      <th>is_match</th>\n",
       "    </tr>\n",
       "  </thead>\n",
       "  <tbody>\n",
       "    <tr>\n",
       "      <th>0</th>\n",
       "      <td>SPRITE ZERO SUGAR 8PK</td>\n",
       "      <td>4.75</td>\n",
       "      <td>10 OZ</td>\n",
       "      <td>1</td>\n",
       "      <td>NaN</td>\n",
       "    </tr>\n",
       "    <tr>\n",
       "      <th>1</th>\n",
       "      <td>PAN PEPIN HOT DOG INTEGRAL 8PK</td>\n",
       "      <td>3.19</td>\n",
       "      <td>12.5 OZ</td>\n",
       "      <td>1</td>\n",
       "      <td>NaN</td>\n",
       "    </tr>\n",
       "    <tr>\n",
       "      <th>2</th>\n",
       "      <td>TORTILLA ESPANOLA CON CEBOLLA</td>\n",
       "      <td>6.19</td>\n",
       "      <td>17.6 OZ</td>\n",
       "      <td>1</td>\n",
       "      <td>NaN</td>\n",
       "    </tr>\n",
       "    <tr>\n",
       "      <th>3</th>\n",
       "      <td>CAMPBELLS CHUNKY CHICKEN NOODLE</td>\n",
       "      <td>4.15</td>\n",
       "      <td>18.6 OZ</td>\n",
       "      <td>1</td>\n",
       "      <td>NaN</td>\n",
       "    </tr>\n",
       "    <tr>\n",
       "      <th>4</th>\n",
       "      <td>KELLOGGS FROSTED FLAKES CEREAL CUP</td>\n",
       "      <td>1.75</td>\n",
       "      <td>2.1 OZ</td>\n",
       "      <td>1</td>\n",
       "      <td>NaN</td>\n",
       "    </tr>\n",
       "    <tr>\n",
       "      <th>...</th>\n",
       "      <td>...</td>\n",
       "      <td>...</td>\n",
       "      <td>...</td>\n",
       "      <td>...</td>\n",
       "      <td>...</td>\n",
       "    </tr>\n",
       "    <tr>\n",
       "      <th>332</th>\n",
       "      <td>REMOLACHA FRESCA COSTA RICA</td>\n",
       "      <td>0.97</td>\n",
       "      <td>16 OZ</td>\n",
       "      <td>1</td>\n",
       "      <td>False</td>\n",
       "    </tr>\n",
       "    <tr>\n",
       "      <th>733</th>\n",
       "      <td>MUSLOS DE POLLO FRESCOS F/P. EU</td>\n",
       "      <td>0.79</td>\n",
       "      <td>16 OZ</td>\n",
       "      <td>1</td>\n",
       "      <td>False</td>\n",
       "    </tr>\n",
       "    <tr>\n",
       "      <th>1319</th>\n",
       "      <td>CALABAZA ENTERA</td>\n",
       "      <td>0.37</td>\n",
       "      <td>16 OZ</td>\n",
       "      <td>1</td>\n",
       "      <td>False</td>\n",
       "    </tr>\n",
       "    <tr>\n",
       "      <th>8144</th>\n",
       "      <td>REPOLLO VERDE</td>\n",
       "      <td>0.87</td>\n",
       "      <td>16 OZ</td>\n",
       "      <td>1</td>\n",
       "      <td>False</td>\n",
       "    </tr>\n",
       "    <tr>\n",
       "      <th>12284</th>\n",
       "      <td>CADERAS DE POLLO FRESCAS F/P EU</td>\n",
       "      <td>0.79</td>\n",
       "      <td>16 OZ</td>\n",
       "      <td>1</td>\n",
       "      <td>False</td>\n",
       "    </tr>\n",
       "  </tbody>\n",
       "</table>\n",
       "<p>12802 rows × 5 columns</p>\n",
       "</div>"
      ],
      "text/plain": [
       "                                     Name Price   Amount  Quantity is_match\n",
       "0                   SPRITE ZERO SUGAR 8PK  4.75    10 OZ         1      NaN\n",
       "1          PAN PEPIN HOT DOG INTEGRAL 8PK  3.19  12.5 OZ         1      NaN\n",
       "2           TORTILLA ESPANOLA CON CEBOLLA  6.19  17.6 OZ         1      NaN\n",
       "3         CAMPBELLS CHUNKY CHICKEN NOODLE  4.15  18.6 OZ         1      NaN\n",
       "4      KELLOGGS FROSTED FLAKES CEREAL CUP  1.75   2.1 OZ         1      NaN\n",
       "...                                   ...   ...      ...       ...      ...\n",
       "332           REMOLACHA FRESCA COSTA RICA  0.97    16 OZ         1    False\n",
       "733       MUSLOS DE POLLO FRESCOS F/P. EU  0.79    16 OZ         1    False\n",
       "1319                      CALABAZA ENTERA  0.37    16 OZ         1    False\n",
       "8144                        REPOLLO VERDE  0.87    16 OZ         1    False\n",
       "12284     CADERAS DE POLLO FRESCAS F/P EU  0.79    16 OZ         1    False\n",
       "\n",
       "[12802 rows x 5 columns]"
      ]
     },
     "execution_count": 32,
     "metadata": {},
     "output_type": "execute_result"
    }
   ],
   "source": [
    "full_grocery_b_df = pd.concat([grocery_store_b_df,division_prices, lb_prices, cent_prices, cent_lb_prices])\n",
    "full_grocery_b_df"
   ]
  },
  {
   "cell_type": "markdown",
   "metadata": {},
   "source": [
    "### Add the Unit Price as the Price / Amount sold by"
   ]
  },
  {
   "cell_type": "code",
   "execution_count": 33,
   "metadata": {},
   "outputs": [
    {
     "name": "stdout",
     "output_type": "stream",
     "text": [
      "                                     Name Price   Amount  Quantity is_match  \\\n",
      "0                   SPRITE ZERO SUGAR 8PK  4.75    10 OZ         1      NaN   \n",
      "1          PAN PEPIN HOT DOG INTEGRAL 8PK  3.19  12.5 OZ         1      NaN   \n",
      "2           TORTILLA ESPANOLA CON CEBOLLA  6.19  17.6 OZ         1      NaN   \n",
      "3         CAMPBELLS CHUNKY CHICKEN NOODLE  4.15  18.6 OZ         1      NaN   \n",
      "4      KELLOGGS FROSTED FLAKES CEREAL CUP  1.75   2.1 OZ         1      NaN   \n",
      "...                                   ...   ...      ...       ...      ...   \n",
      "332           REMOLACHA FRESCA COSTA RICA  0.97    16 OZ         1    False   \n",
      "733       MUSLOS DE POLLO FRESCOS F/P. EU  0.79    16 OZ         1    False   \n",
      "1319                      CALABAZA ENTERA  0.37    16 OZ         1    False   \n",
      "8144                        REPOLLO VERDE  0.87    16 OZ         1    False   \n",
      "12284     CADERAS DE POLLO FRESCAS F/P EU  0.79    16 OZ         1    False   \n",
      "\n",
      "       Amount_Value Unit UnitPrice  \n",
      "0              10.0   OZ     0.475  \n",
      "1              12.5   OZ    0.2552  \n",
      "2              17.6   OZ  0.351705  \n",
      "3              18.6   OZ  0.223118  \n",
      "4               2.1   OZ  0.833333  \n",
      "...             ...  ...       ...  \n",
      "332            16.0   OZ  0.060625  \n",
      "733            16.0   OZ  0.049375  \n",
      "1319           16.0   OZ  0.023125  \n",
      "8144           16.0   OZ  0.054375  \n",
      "12284          16.0   OZ  0.049375  \n",
      "\n",
      "[12802 rows x 8 columns]\n"
     ]
    }
   ],
   "source": [
    "import re\n",
    "import pandas as pd\n",
    "\n",
    "# Clean Amount to handle cases like '11.3OZ', '28.00/OZ', and '28.00 OZ'\n",
    "def clean_amount(amount):\n",
    "    # Handle case like '11.3OZ' (without space or slash)\n",
    "    match = re.match(r'(\\d+(\\.\\d+)?)\\s*(\\D+)', amount)\n",
    "    if match:\n",
    "        return match.group(1)  # Return the numeric part as string (no unit)\n",
    "    # Handle case like '28.00/OZ' by taking the first part before '/'\n",
    "    elif '/' in amount:\n",
    "        return amount.split('/')[0]\n",
    "    else:\n",
    "        return amount.split()[0]  # If space-separated, take the first part (numeric value)\n",
    "\n",
    "# Apply the cleaning function to extract the numeric value and the unit\n",
    "full_grocery_b_df['Amount_Value'] = full_grocery_b_df['Amount'].apply(lambda x: float(clean_amount(x)))\n",
    "full_grocery_b_df['Unit'] = full_grocery_b_df['Amount'].apply(lambda x: re.sub(r'[\\d/\\.]', '', x))  # Extract unit\n",
    "\n",
    "# Calculate the new column for Amount / Price\n",
    "full_grocery_b_df['UnitPrice'] = full_grocery_b_df['Price'] / full_grocery_b_df['Amount_Value']\n",
    "\n",
    "# Display the updated DataFrame\n",
    "print(full_grocery_b_df)\n"
   ]
  },
  {
   "cell_type": "code",
   "execution_count": 34,
   "metadata": {},
   "outputs": [
    {
     "name": "stdout",
     "output_type": "stream",
     "text": [
      "[' OZ' ' LB' ' RO' ' CT' ' FT' ' EA' ' LT' ' DZ' ' SB' ' PK' ' GRM' ' ML'\n",
      " ' QT' 'OZ' ' CP' ' GL' ' YD' ' PCS' ' TB' ' FO' ' CM' 'PG' ' IN' ' UN'\n",
      " ' GC']\n"
     ]
    }
   ],
   "source": [
    "# Get all unique values in the 'Unit' column\n",
    "unique_units = full_grocery_b_df['Unit'].unique()\n",
    "\n",
    "# Print the unique values\n",
    "print(unique_units)\n"
   ]
  },
  {
   "cell_type": "markdown",
   "metadata": {},
   "source": [
    "## Parse through Grocery Store A retrieving Name, Price, Unit Price, and UnitPriceString"
   ]
  },
  {
   "cell_type": "code",
   "execution_count": 174,
   "metadata": {},
   "outputs": [
    {
     "name": "stdout",
     "output_type": "stream",
     "text": [
      "                                                   Name  Price  UnitPrice  \\\n",
      "0     Pan Pepin, Finest Hawaiian Burger, 12 oz, 8 Count   2.68      0.223   \n",
      "1       Dove Gentle Exfoliating Beauty Bar, 4 oz, 6 Bar   7.47      0.332   \n",
      "2     Line 39 Cabernet Sauvignon Red Wine, Californi...  12.98      0.511   \n",
      "3              Pan Pepin, Hot Dog Buns, 10ct, 15 Ounces   2.74      0.183   \n",
      "4     Borden Spreadable Butter with Canola Oil, 8 oz...   3.97      0.496   \n",
      "...                                                 ...    ...        ...   \n",
      "4995  Sheba Perfect Portions Wet Cat Food Variety Pa...  27.25      0.430   \n",
      "4996  Orville Redenbacher's Popping & Topping Butter...  28.02        NaN   \n",
      "4997  Heat Lamp Bulb For Reptile 50w 110v Tortoise W...   3.59        NaN   \n",
      "4998  School Zone Beginning Reading Grades 1-2 Workb...  10.19        NaN   \n",
      "4999  Shamrock Gumball Machine St. Patrick's Day Rec...  12.99        NaN   \n",
      "\n",
      "     UnitPriceString  \n",
      "0      22.3 ¢/ounces  \n",
      "1          33.2 ¢/oz  \n",
      "2       51.1 ¢/fl oz  \n",
      "3          18.3 ¢/oz  \n",
      "4          49.6 ¢/oz  \n",
      "...              ...  \n",
      "4995       43.0 ¢/oz  \n",
      "4996            None  \n",
      "4997            None  \n",
      "4998            None  \n",
      "4999            None  \n",
      "\n",
      "[5000 rows x 4 columns]\n"
     ]
    }
   ],
   "source": [
    "products = []\n",
    "for i in range(len(grocery_store_a)):\n",
    "    name = grocery_store_a[i]['data']['product']['name']\n",
    "    if grocery_store_a[i]['data'][\"product\"][\"priceInfo\"][\"currentPrice\"] == None:\n",
    "        price = None\n",
    "    else: \n",
    "        price = grocery_store_a[i]['data'][\"product\"][\"priceInfo\"][\"currentPrice\"][\"price\"]\n",
    "    if grocery_store_a[i]['data'][\"product\"][\"priceInfo\"][\"unitPrice\"] == None:\n",
    "        unitPrice = None\n",
    "        unitPriceString = None\n",
    "    else:\n",
    "        unitPrice = grocery_store_a[i]['data'][\"product\"][\"priceInfo\"][\"unitPrice\"][\"price\"]\n",
    "        unitPriceString = grocery_store_a[i]['data'][\"product\"][\"priceInfo\"][\"unitPrice\"][\"priceString\"]\n",
    "    products.append([name, price, unitPrice, unitPriceString])\n",
    "\n",
    "grocery_store_a_df = pd.DataFrame(products, columns=[\"Name\", \"Price\", \"UnitPrice\", \"UnitPriceString\"])\n",
    "print(grocery_store_a_df)\n"
   ]
  },
  {
   "cell_type": "markdown",
   "metadata": {},
   "source": [
    "If there is no price, we remove it from the data and we get the Unit of the product via the Unit Price String"
   ]
  },
  {
   "cell_type": "code",
   "execution_count": null,
   "metadata": {},
   "outputs": [],
   "source": [
    "# Price normalization\n",
    "grocery_store_a_df = grocery_store_a_df.dropna(subset=['Price'])\n",
    "grocery_store_a_df['Unit'] = grocery_store_a_df['UnitPriceString'].apply(\n",
    "    lambda x: x.split(\"/\")[1].capitalize() if x and len(x.split()) > 1 else None\n",
    ")"
   ]
  },
  {
   "cell_type": "code",
   "execution_count": 176,
   "metadata": {},
   "outputs": [
    {
     "data": {
      "text/plain": [
       "array(['Ounces', 'Oz', 'Fl oz', None, 'G', 'Ea', '100 ct', 'Fluid ounces',\n",
       "       'Sq ft', 'Count', 'Lb', 'Per 100 count', 'Ml', 'Ft'], dtype=object)"
      ]
     },
     "execution_count": 176,
     "metadata": {},
     "output_type": "execute_result"
    }
   ],
   "source": [
    "grocery_store_a_df[\"Unit\"].unique()"
   ]
  },
  {
   "cell_type": "markdown",
   "metadata": {},
   "source": [
    "## Name Normalization \\\n",
    "### Goal: Find products that are similar/the same across Grocery Store A & Grocery Store B \\\n",
    "How? RapidFuzz. Gives a score of how similar 2 strings are. Decided to use their partial_ratio function since it compares the best matching subsequence which is useful when strings have similar parts but include extra words. \\\n",
    "Ideally would try to use Machine Learning Technique here to finetune a model to figure out how similar 2 strings are in this context but could not find a dataset."
   ]
  },
  {
   "cell_type": "code",
   "execution_count": null,
   "metadata": {},
   "outputs": [
    {
     "name": "stderr",
     "output_type": "stream",
     "text": [
      "Matching rows:   0%|          | 14/4935 [00:04<24:12,  3.39it/s]\n"
     ]
    },
    {
     "ename": "KeyboardInterrupt",
     "evalue": "",
     "output_type": "error",
     "traceback": [
      "\u001b[31m---------------------------------------------------------------------------\u001b[39m",
      "\u001b[31mKeyboardInterrupt\u001b[39m                         Traceback (most recent call last)",
      "\u001b[36mCell\u001b[39m\u001b[36m \u001b[39m\u001b[32mIn[45]\u001b[39m\u001b[32m, line 27\u001b[39m\n\u001b[32m     25\u001b[39m \u001b[38;5;66;03m# Wrap the iteration with tqdm to show a progress bar\u001b[39;00m\n\u001b[32m     26\u001b[39m \u001b[38;5;28;01mfor\u001b[39;00m idx_a, row_a \u001b[38;5;129;01min\u001b[39;00m tqdm(grocery_store_a_df.iterrows(), total=grocery_store_a_df.shape[\u001b[32m0\u001b[39m], desc=\u001b[33m\"\u001b[39m\u001b[33mMatching rows\u001b[39m\u001b[33m\"\u001b[39m):\n\u001b[32m---> \u001b[39m\u001b[32m27\u001b[39m     best_match, best_score = \u001b[43mfind_best_match\u001b[49m\u001b[43m(\u001b[49m\u001b[43mrow_a\u001b[49m\u001b[43m,\u001b[49m\u001b[43m \u001b[49m\u001b[43mfull_grocery_b_df\u001b[49m\u001b[43m)\u001b[49m\n\u001b[32m     29\u001b[39m     \u001b[38;5;66;03m# Check if the row from grocery_store_b_df has already been used\u001b[39;00m\n\u001b[32m     30\u001b[39m     \u001b[38;5;28;01mif\u001b[39;00m best_match[\u001b[33m'\u001b[39m\u001b[33mName\u001b[39m\u001b[33m'\u001b[39m] \u001b[38;5;129;01min\u001b[39;00m matched_rows:\n",
      "\u001b[36mCell\u001b[39m\u001b[36m \u001b[39m\u001b[32mIn[45]\u001b[39m\u001b[32m, line 11\u001b[39m, in \u001b[36mfind_best_match\u001b[39m\u001b[34m(row_a, grocery_store_b_df)\u001b[39m\n\u001b[32m      9\u001b[39m best_match = \u001b[38;5;28;01mNone\u001b[39;00m\n\u001b[32m     10\u001b[39m best_score = \u001b[32m0\u001b[39m\n\u001b[32m---> \u001b[39m\u001b[32m11\u001b[39m \u001b[43m\u001b[49m\u001b[38;5;28;43;01mfor\u001b[39;49;00m\u001b[43m \u001b[49m\u001b[43m_\u001b[49m\u001b[43m,\u001b[49m\u001b[43m \u001b[49m\u001b[43mrow_b\u001b[49m\u001b[43m \u001b[49m\u001b[38;5;129;43;01min\u001b[39;49;00m\u001b[43m \u001b[49m\u001b[43mgrocery_store_b_df\u001b[49m\u001b[43m.\u001b[49m\u001b[43miterrows\u001b[49m\u001b[43m(\u001b[49m\u001b[43m)\u001b[49m\u001b[43m:\u001b[49m\n\u001b[32m     12\u001b[39m \u001b[43m    \u001b[49m\u001b[43mscore\u001b[49m\u001b[43m \u001b[49m\u001b[43m=\u001b[49m\u001b[43m \u001b[49m\u001b[43mfuzz\u001b[49m\u001b[43m.\u001b[49m\u001b[43mpartial_ratio\u001b[49m\u001b[43m(\u001b[49m\u001b[43mrow_a\u001b[49m\u001b[43m[\u001b[49m\u001b[33;43m'\u001b[39;49m\u001b[33;43mName\u001b[39;49m\u001b[33;43m'\u001b[39;49m\u001b[43m]\u001b[49m\u001b[43m.\u001b[49m\u001b[43mupper\u001b[49m\u001b[43m(\u001b[49m\u001b[43m)\u001b[49m\u001b[43m,\u001b[49m\u001b[43m \u001b[49m\u001b[43mrow_b\u001b[49m\u001b[43m[\u001b[49m\u001b[33;43m'\u001b[39;49m\u001b[33;43mName\u001b[39;49m\u001b[33;43m'\u001b[39;49m\u001b[43m]\u001b[49m\u001b[43m.\u001b[49m\u001b[43mupper\u001b[49m\u001b[43m(\u001b[49m\u001b[43m)\u001b[49m\u001b[43m)\u001b[49m\n\u001b[32m     13\u001b[39m \u001b[43m    \u001b[49m\u001b[38;5;28;43;01mif\u001b[39;49;00m\u001b[43m \u001b[49m\u001b[43mscore\u001b[49m\u001b[43m \u001b[49m\u001b[43m>\u001b[49m\u001b[43m \u001b[49m\u001b[43mbest_score\u001b[49m\u001b[43m:\u001b[49m\n",
      "\u001b[36mFile \u001b[39m\u001b[32mc:\\Users\\richa\\Desktop\\CodingWorkspaces\\coding-assignments\\betterbasketvenv\\Lib\\site-packages\\pandas\\core\\frame.py:1554\u001b[39m, in \u001b[36mDataFrame.iterrows\u001b[39m\u001b[34m(self)\u001b[39m\n\u001b[32m   1552\u001b[39m using_cow = using_copy_on_write()\n\u001b[32m   1553\u001b[39m \u001b[38;5;28;01mfor\u001b[39;00m k, v \u001b[38;5;129;01min\u001b[39;00m \u001b[38;5;28mzip\u001b[39m(\u001b[38;5;28mself\u001b[39m.index, \u001b[38;5;28mself\u001b[39m.values):\n\u001b[32m-> \u001b[39m\u001b[32m1554\u001b[39m     s = \u001b[43mklass\u001b[49m\u001b[43m(\u001b[49m\u001b[43mv\u001b[49m\u001b[43m,\u001b[49m\u001b[43m \u001b[49m\u001b[43mindex\u001b[49m\u001b[43m=\u001b[49m\u001b[43mcolumns\u001b[49m\u001b[43m,\u001b[49m\u001b[43m \u001b[49m\u001b[43mname\u001b[49m\u001b[43m=\u001b[49m\u001b[43mk\u001b[49m\u001b[43m)\u001b[49m.__finalize__(\u001b[38;5;28mself\u001b[39m)\n\u001b[32m   1555\u001b[39m     \u001b[38;5;28;01mif\u001b[39;00m using_cow \u001b[38;5;129;01mand\u001b[39;00m \u001b[38;5;28mself\u001b[39m._mgr.is_single_block:\n\u001b[32m   1556\u001b[39m         s._mgr.add_references(\u001b[38;5;28mself\u001b[39m._mgr)  \u001b[38;5;66;03m# type: ignore[arg-type]\u001b[39;00m\n",
      "\u001b[36mFile \u001b[39m\u001b[32mc:\\Users\\richa\\Desktop\\CodingWorkspaces\\coding-assignments\\betterbasketvenv\\Lib\\site-packages\\pandas\\core\\series.py:588\u001b[39m, in \u001b[36mSeries.__init__\u001b[39m\u001b[34m(self, data, index, dtype, name, copy, fastpath)\u001b[39m\n\u001b[32m    586\u001b[39m manager = _get_option(\u001b[33m\"\u001b[39m\u001b[33mmode.data_manager\u001b[39m\u001b[33m\"\u001b[39m, silent=\u001b[38;5;28;01mTrue\u001b[39;00m)\n\u001b[32m    587\u001b[39m \u001b[38;5;28;01mif\u001b[39;00m manager == \u001b[33m\"\u001b[39m\u001b[33mblock\u001b[39m\u001b[33m\"\u001b[39m:\n\u001b[32m--> \u001b[39m\u001b[32m588\u001b[39m     data = \u001b[43mSingleBlockManager\u001b[49m\u001b[43m.\u001b[49m\u001b[43mfrom_array\u001b[49m\u001b[43m(\u001b[49m\u001b[43mdata\u001b[49m\u001b[43m,\u001b[49m\u001b[43m \u001b[49m\u001b[43mindex\u001b[49m\u001b[43m,\u001b[49m\u001b[43m \u001b[49m\u001b[43mrefs\u001b[49m\u001b[43m=\u001b[49m\u001b[43mrefs\u001b[49m\u001b[43m)\u001b[49m\n\u001b[32m    589\u001b[39m \u001b[38;5;28;01melif\u001b[39;00m manager == \u001b[33m\"\u001b[39m\u001b[33marray\u001b[39m\u001b[33m\"\u001b[39m:\n\u001b[32m    590\u001b[39m     data = SingleArrayManager.from_array(data, index)\n",
      "\u001b[36mFile \u001b[39m\u001b[32mc:\\Users\\richa\\Desktop\\CodingWorkspaces\\coding-assignments\\betterbasketvenv\\Lib\\site-packages\\pandas\\core\\internals\\managers.py:1863\u001b[39m, in \u001b[36mSingleBlockManager.from_array\u001b[39m\u001b[34m(cls, array, index, refs)\u001b[39m\n\u001b[32m   1860\u001b[39m     \u001b[38;5;28;01massert\u001b[39;00m \u001b[38;5;28mlen\u001b[39m(axes) == \u001b[32m1\u001b[39m\n\u001b[32m   1861\u001b[39m     \u001b[38;5;28;01mreturn\u001b[39;00m \u001b[38;5;28mcls\u001b[39m(blocks[\u001b[32m0\u001b[39m], axes[\u001b[32m0\u001b[39m], verify_integrity=\u001b[38;5;28;01mFalse\u001b[39;00m)\n\u001b[32m-> \u001b[39m\u001b[32m1863\u001b[39m \u001b[38;5;129m@classmethod\u001b[39m\n\u001b[32m   1864\u001b[39m \u001b[38;5;28;01mdef\u001b[39;00m\u001b[38;5;250m \u001b[39m\u001b[34mfrom_array\u001b[39m(\n\u001b[32m   1865\u001b[39m     \u001b[38;5;28mcls\u001b[39m, array: ArrayLike, index: Index, refs: BlockValuesRefs | \u001b[38;5;28;01mNone\u001b[39;00m = \u001b[38;5;28;01mNone\u001b[39;00m\n\u001b[32m   1866\u001b[39m ) -> SingleBlockManager:\n\u001b[32m   1867\u001b[39m \u001b[38;5;250m    \u001b[39m\u001b[33;03m\"\"\"\u001b[39;00m\n\u001b[32m   1868\u001b[39m \u001b[33;03m    Constructor for if we have an array that is not yet a Block.\u001b[39;00m\n\u001b[32m   1869\u001b[39m \u001b[33;03m    \"\"\"\u001b[39;00m\n\u001b[32m   1870\u001b[39m     array = maybe_coerce_values(array)\n",
      "\u001b[31mKeyboardInterrupt\u001b[39m: "
     ]
    }
   ],
   "source": [
    "import pandas as pd\n",
    "from rapidfuzz import fuzz\n",
    "from tqdm import tqdm  # Import tqdm\n",
    "\n",
    "# Assuming you have the DataFrames grocery_store_a_df and grocery_store_b_df\n",
    "\n",
    "# Helper function to find the best match row from grocery_store_b_df\n",
    "def find_best_match(row_a, grocery_store_b_df):\n",
    "    best_match = None\n",
    "    best_score = 0\n",
    "    for _, row_b in grocery_store_b_df.iterrows():\n",
    "        score = fuzz.partial_ratio(row_a['Name'].upper(), row_b['Name'].upper())\n",
    "        if score > best_score:\n",
    "            best_score = score\n",
    "            best_match = row_b\n",
    "    return best_match, best_score\n",
    "\n",
    "# New column for storing best match data\n",
    "grocery_store_a_df['Best_Match'] = None\n",
    "grocery_store_a_df['Match_Score'] = None\n",
    "\n",
    "# Dictionary to track rows from grocery_store_b_df that are already matched\n",
    "matched_rows = {}\n",
    "\n",
    "# Wrap the iteration with tqdm to show a progress bar\n",
    "for idx_a, row_a in tqdm(grocery_store_a_df.iterrows(), total=grocery_store_a_df.shape[0], desc=\"Matching rows\"):\n",
    "    best_match, best_score = find_best_match(row_a, full_grocery_b_df)\n",
    "    \n",
    "    # Check if the row from grocery_store_b_df has already been used\n",
    "    if best_match['Name'] in matched_rows:\n",
    "        existing_score = matched_rows[best_match['Name']]\n",
    "\n",
    "        if best_score < existing_score:\n",
    "            # Set all values in the original row to null\n",
    "            grocery_store_a_df.loc[idx_a] = [None] * len(row_a)\n",
    "        else:\n",
    "            # Set the new row's concatenated values to null except for the name of the b row\n",
    "            grocery_store_a_df.loc[idx_a, 'Best_Match'] = None\n",
    "            grocery_store_a_df.loc[idx_a, 'Match_Score'] = None\n",
    "    else:\n",
    "        # Store the best match and score in the matched rows dictionary\n",
    "        matched_rows[best_match['Name']] = best_score\n",
    "        # Add the best match and score to grocery_store_a_df\n",
    "        grocery_store_a_df.loc[idx_a, 'Best_Match'] = best_match['Name']\n",
    "        grocery_store_a_df.loc[idx_a, 'Match_Score'] = best_score\n",
    "\n",
    "# Final DataFrame will contain the best match and score for each row in grocery_store_a_df\n",
    "print(grocery_store_a_df)\n"
   ]
  },
  {
   "cell_type": "code",
   "execution_count": 56,
   "metadata": {},
   "outputs": [
    {
     "ename": "ModuleNotFoundError",
     "evalue": "No module named 'gensim'",
     "output_type": "error",
     "traceback": [
      "\u001b[31m---------------------------------------------------------------------------\u001b[39m",
      "\u001b[31mModuleNotFoundError\u001b[39m                       Traceback (most recent call last)",
      "\u001b[36mCell\u001b[39m\u001b[36m \u001b[39m\u001b[32mIn[56]\u001b[39m\u001b[32m, line 1\u001b[39m\n\u001b[32m----> \u001b[39m\u001b[32m1\u001b[39m \u001b[38;5;28;01mimport\u001b[39;00m\u001b[38;5;250m \u001b[39m\u001b[34;01mgensim\u001b[39;00m\u001b[34;01m.\u001b[39;00m\u001b[34;01mdownloader\u001b[39;00m\u001b[38;5;250m \u001b[39m\u001b[38;5;28;01mas\u001b[39;00m\u001b[38;5;250m \u001b[39m\u001b[34;01mapi\u001b[39;00m\n\u001b[32m      2\u001b[39m \u001b[38;5;28;01mimport\u001b[39;00m\u001b[38;5;250m \u001b[39m\u001b[34;01mnumpy\u001b[39;00m\u001b[38;5;250m \u001b[39m\u001b[38;5;28;01mas\u001b[39;00m\u001b[38;5;250m \u001b[39m\u001b[34;01mnp\u001b[39;00m\n\u001b[32m      3\u001b[39m \u001b[38;5;28;01mfrom\u001b[39;00m\u001b[38;5;250m \u001b[39m\u001b[34;01msklearn\u001b[39;00m\u001b[34;01m.\u001b[39;00m\u001b[34;01mmetrics\u001b[39;00m\u001b[34;01m.\u001b[39;00m\u001b[34;01mpairwise\u001b[39;00m\u001b[38;5;250m \u001b[39m\u001b[38;5;28;01mimport\u001b[39;00m cosine_similarity\n",
      "\u001b[31mModuleNotFoundError\u001b[39m: No module named 'gensim'"
     ]
    }
   ],
   "source": [
    "import gensim.downloader as api\n",
    "import numpy as np\n",
    "from sklearn.metrics.pairwise import cosine_similarity\n",
    "\n",
    "# Load pretrained Word2Vec model\n",
    "model = api.load(\"word2vec-google-news-300\")\n",
    "\n",
    "def get_sentence_vector(sentence, model):\n",
    "    words = sentence.lower().split()  # Tokenizing the sentence\n",
    "    word_vectors = [model[word] for word in words if word in model]\n",
    "    if len(word_vectors) == 0:\n",
    "        return np.zeros(model.vector_size)  # Return zero vector if no words found\n",
    "    return np.mean(word_vectors, axis=0)\n",
    "\n",
    "# Example sentences\n",
    "sentence1 = \"I love programming\"\n",
    "sentence2 = \"I enjoy coding\"\n",
    "\n",
    "# Get vector representations\n",
    "vec1 = get_sentence_vector(sentence1, model)\n",
    "vec2 = get_sentence_vector(sentence2, model)\n",
    "\n",
    "# Compute cosine similarity\n",
    "similarity = cosine_similarity([vec1], [vec2])[0][0]\n",
    "print(f\"Cosine similarity: {similarity}\")\n"
   ]
  },
  {
   "cell_type": "code",
   "execution_count": 36,
   "metadata": {},
   "outputs": [
    {
     "name": "stdout",
     "output_type": "stream",
     "text": [
      "           Name Price Amount  Quantity is_match  Amount_Value Unit UnitPrice\n",
      "2926  PAN PASAS  3.65  16 OZ         1      NaN          16.0   OZ  0.228125\n"
     ]
    }
   ],
   "source": [
    "# Print the row where the 'Name' column is equal to 'PAN PASAS'\n",
    "print(full_grocery_b_df[full_grocery_b_df[\"Name\"] == \"PAN PASAS\"])\n"
   ]
  },
  {
   "cell_type": "code",
   "execution_count": 178,
   "metadata": {},
   "outputs": [],
   "source": [
    "grocery_store_a_df.to_csv(\"grocery_store_a_df.csv\", index=False)"
   ]
  },
  {
   "cell_type": "code",
   "execution_count": 37,
   "metadata": {},
   "outputs": [
    {
     "name": "stdout",
     "output_type": "stream",
     "text": [
      "['OZ' 'LB' 'RO' 'CT' 'FT' 'EA' 'LT' 'DZ' 'SB' 'PK' 'GRM' 'ML' 'QT' 'CP'\n",
      " 'GL' 'YD' 'PCS' 'TB' 'FO' 'CM' 'PG' 'IN' 'UN' 'GC']\n"
     ]
    }
   ],
   "source": [
    "# CONVERT UNITS\n",
    "full_grocery_b_df[\"Unit\"] = full_grocery_b_df[\"Unit\"].str.replace(\" \", \"\", regex=True)\n",
    "# Get all unique values in the 'Unit' column\n",
    "unique_units = full_grocery_b_df['Unit'].unique()\n",
    "\n",
    "# Print the unique values\n",
    "print(unique_units)"
   ]
  },
  {
   "cell_type": "code",
   "execution_count": 38,
   "metadata": {},
   "outputs": [
    {
     "name": "stdout",
     "output_type": "stream",
     "text": [
      "['OZ' 'FO' nan 'GRM' 'CT' 'FT' 'EA' 'LB' 'ML']\n"
     ]
    }
   ],
   "source": [
    "import pandas as pd\n",
    "grocery_store_a_df = pd.read_csv(\"grocery_store_a_df.csv\")\n",
    "# Mapping dictionary from Store A to Store B\n",
    "unit_mapping = {\n",
    "    'Ounces': 'OZ',\n",
    "    'Oz': 'OZ',\n",
    "    'Fl oz': 'FO',\n",
    "    None: None,  # Keep None as None\n",
    "    'G': 'GRM',\n",
    "    '100 ct': 'CT',\n",
    "    'Fluid ounces': 'FO',\n",
    "    'Sq ft': 'FT',\n",
    "    'Ea': 'EA',\n",
    "    'Count': 'CT',\n",
    "    'Lb': 'LB',\n",
    "    'Per 100 count': 'CT',\n",
    "    'Ml': 'ML',\n",
    "    'Ft': 'FT'\n",
    "}\n",
    "\n",
    "def map_units(df, unit_col=\"Unit\", unit_price_col=\"UnitPrice\"):\n",
    "    \"\"\"\n",
    "    Maps units and adjusts unit price for count-based units.\n",
    "\n",
    "    Parameters:\n",
    "        df (pd.DataFrame): DataFrame with unit and unit price columns.\n",
    "        unit_col (str): Column containing units.\n",
    "        unit_price_col (str): Column containing unit price.\n",
    "\n",
    "    Returns:\n",
    "        pd.DataFrame: Updated DataFrame with mapped units and adjusted unit prices.\n",
    "    \"\"\"\n",
    "    df[unit_col] = df[unit_col].map(unit_mapping).fillna(df[unit_col])  # Map units\n",
    "\n",
    "    # Adjust UnitPrice for count-based units (CT)\n",
    "    count_mask = df[unit_col] == 'CT'\n",
    "    df.loc[count_mask, unit_price_col] = df.loc[count_mask, unit_price_col] / 100\n",
    "\n",
    "    return df\n",
    "\n",
    "# Example usage\n",
    "grocery_store_a_df = map_units(grocery_store_a_df)\n",
    "print(grocery_store_a_df[\"Unit\"].unique())"
   ]
  },
  {
   "cell_type": "code",
   "execution_count": 39,
   "metadata": {},
   "outputs": [
    {
     "name": "stdout",
     "output_type": "stream",
     "text": [
      "                                                 Name_x  Price_x  UnitPrice_x  \\\n",
      "0     Pan Pepin, Finest Hawaiian Burger, 12 oz, 8 Count     2.68        0.223   \n",
      "1       Dove Gentle Exfoliating Beauty Bar, 4 oz, 6 Bar     7.47        0.332   \n",
      "2     Line 39 Cabernet Sauvignon Red Wine, Californi...    12.98        0.511   \n",
      "3              Pan Pepin, Hot Dog Buns, 10ct, 15 Ounces     2.74        0.183   \n",
      "4     Borden Spreadable Butter with Canola Oil, 8 oz...     3.97        0.496   \n",
      "...                                                 ...      ...          ...   \n",
      "4979                                                NaN      NaN          NaN   \n",
      "4980  Orville Redenbacher's Popping & Topping Butter...    28.02          NaN   \n",
      "4981  Heat Lamp Bulb For Reptile 50w 110v Tortoise W...     3.59          NaN   \n",
      "4982  School Zone Beginning Reading Grades 1-2 Workb...    10.19          NaN   \n",
      "4983  Shamrock Gumball Machine St. Patrick's Day Rec...    12.99          NaN   \n",
      "\n",
      "     UnitPriceString Unit_x            Best_Match  Match_Score  \\\n",
      "0      22.3 ¢/ounces     OZ             PAN PASAS    42.857143   \n",
      "1          33.2 ¢/oz     OZ            DUX GOLDEN    37.500000   \n",
      "2       51.1 ¢/fl oz     FO       GLAD LAWN 39 GL    43.478261   \n",
      "3          18.3 ¢/oz     OZ             DON Q 151    44.444444   \n",
      "4          49.6 ¢/oz     OZ         COCO RICO 8PK    38.461538   \n",
      "...              ...    ...                   ...          ...   \n",
      "4979             NaN    NaN                   NaN          NaN   \n",
      "4980             NaN    NaN                   NaN          NaN   \n",
      "4981             NaN    NaN                   NaN          NaN   \n",
      "4982             NaN    NaN  CHIVAS REGAL 12 ANOS    35.000000   \n",
      "4983             NaN    NaN       DON Q RESERVA 7    34.482759   \n",
      "\n",
      "                    Name_y Price_y   Amount  Quantity is_match  Amount_Value  \\\n",
      "0                PAN PASAS    3.65    16 OZ       1.0      NaN         16.00   \n",
      "1               DUX GOLDEN    2.59  8.57 OZ       1.0      NaN          8.57   \n",
      "2          GLAD LAWN 39 GL    5.99    12 CT       1.0      NaN         12.00   \n",
      "3                DON Q 151   17.25   750 ML       1.0      NaN        750.00   \n",
      "4            COCO RICO 8PK    5.75    12 OZ       1.0      NaN         12.00   \n",
      "...                    ...     ...      ...       ...      ...           ...   \n",
      "4979                   NaN     NaN      NaN       NaN      NaN           NaN   \n",
      "4980                   NaN     NaN      NaN       NaN      NaN           NaN   \n",
      "4981                   NaN     NaN      NaN       NaN      NaN           NaN   \n",
      "4982  CHIVAS REGAL 12 ANOS   28.99   750 ML       1.0      NaN        750.00   \n",
      "4983       DON Q RESERVA 7   29.69   750 ML       1.0      NaN        750.00   \n",
      "\n",
      "     Unit_y UnitPrice_y  \n",
      "0        OZ    0.228125  \n",
      "1        OZ    0.302217  \n",
      "2        CT    0.499167  \n",
      "3        ML       0.023  \n",
      "4        OZ    0.479167  \n",
      "...     ...         ...  \n",
      "4979    NaN         NaN  \n",
      "4980    NaN         NaN  \n",
      "4981    NaN         NaN  \n",
      "4982     ML    0.038653  \n",
      "4983     ML    0.039587  \n",
      "\n",
      "[4984 rows x 15 columns]\n"
     ]
    }
   ],
   "source": [
    "import pandas as pd\n",
    "\n",
    "def merge_best_matches(df_a, df_b, best_match_col=\"Best_Match\", key_col=\"Name\"):\n",
    "    \"\"\"\n",
    "    Merges rows from df_b into df_a based on the best match column.\n",
    "\n",
    "    Parameters:\n",
    "        df_a (pd.DataFrame): The DataFrame containing the best match column.\n",
    "        df_b (pd.DataFrame): The DataFrame with full data to merge.\n",
    "        best_match_col (str): The column in df_a containing best match names.\n",
    "        key_col (str): The column in df_b to match with best_match_col.\n",
    "\n",
    "    Returns:\n",
    "        pd.DataFrame: A new DataFrame with merged rows from df_b where matches exist.\n",
    "    \"\"\"\n",
    "    # Perform a left join, keeping only rows where Best_Match is not None\n",
    "    merged_df = df_a.merge(df_b, left_on=best_match_col, right_on=key_col, how=\"left\")\n",
    "\n",
    "    return merged_df\n",
    "\n",
    "# Example usage\n",
    "full_df = merge_best_matches(grocery_store_a_df, full_grocery_b_df)\n",
    "print(full_df)"
   ]
  },
  {
   "cell_type": "code",
   "execution_count": 40,
   "metadata": {},
   "outputs": [
    {
     "name": "stdout",
     "output_type": "stream",
     "text": [
      "                                                 Name_x  Price_x  UnitPrice_x  \\\n",
      "0     Pan Pepin, Finest Hawaiian Burger, 12 oz, 8 Count     2.68        0.223   \n",
      "1       Dove Gentle Exfoliating Beauty Bar, 4 oz, 6 Bar     7.47        0.332   \n",
      "2     Line 39 Cabernet Sauvignon Red Wine, Californi...    12.98        0.511   \n",
      "3              Pan Pepin, Hot Dog Buns, 10ct, 15 Ounces     2.74        0.183   \n",
      "4     Borden Spreadable Butter with Canola Oil, 8 oz...     3.97        0.496   \n",
      "...                                                 ...      ...          ...   \n",
      "4979                                                NaN      NaN          NaN   \n",
      "4980  Orville Redenbacher's Popping & Topping Butter...    28.02          NaN   \n",
      "4981  Heat Lamp Bulb For Reptile 50w 110v Tortoise W...     3.59          NaN   \n",
      "4982  School Zone Beginning Reading Grades 1-2 Workb...    10.19          NaN   \n",
      "4983  Shamrock Gumball Machine St. Patrick's Day Rec...    12.99          NaN   \n",
      "\n",
      "     UnitPriceString Unit_x            Best_Match  Match_Score  \\\n",
      "0      22.3 ¢/ounces     OZ             PAN PASAS    42.857143   \n",
      "1          33.2 ¢/oz     OZ            DUX GOLDEN    37.500000   \n",
      "2       51.1 ¢/fl oz     FO       GLAD LAWN 39 GL    43.478261   \n",
      "3          18.3 ¢/oz     OZ             DON Q 151    44.444444   \n",
      "4          49.6 ¢/oz     OZ         COCO RICO 8PK    38.461538   \n",
      "...              ...    ...                   ...          ...   \n",
      "4979             NaN    NaN                   NaN          NaN   \n",
      "4980             NaN    NaN                   NaN          NaN   \n",
      "4981             NaN    NaN                   NaN          NaN   \n",
      "4982             NaN    NaN  CHIVAS REGAL 12 ANOS    35.000000   \n",
      "4983             NaN    NaN       DON Q RESERVA 7    34.482759   \n",
      "\n",
      "                    Name_y Price_y   Amount  Quantity is_match  Amount_Value  \\\n",
      "0                PAN PASAS    3.65    16 OZ       1.0      NaN         16.00   \n",
      "1               DUX GOLDEN    2.59  8.57 OZ       1.0      NaN          8.57   \n",
      "2          GLAD LAWN 39 GL    5.99    12 CT       1.0      NaN         12.00   \n",
      "3                DON Q 151   17.25   750 ML       1.0      NaN        750.00   \n",
      "4            COCO RICO 8PK    5.75    12 OZ       1.0      NaN         12.00   \n",
      "...                    ...     ...      ...       ...      ...           ...   \n",
      "4979                   NaN     NaN      NaN       NaN      NaN           NaN   \n",
      "4980                   NaN     NaN      NaN       NaN      NaN           NaN   \n",
      "4981                   NaN     NaN      NaN       NaN      NaN           NaN   \n",
      "4982  CHIVAS REGAL 12 ANOS   28.99   750 ML       1.0      NaN        750.00   \n",
      "4983       DON Q RESERVA 7   29.69   750 ML       1.0      NaN        750.00   \n",
      "\n",
      "     Unit_y UnitPrice_y  Unit_Difference Price_Difference  \n",
      "0        OZ    0.228125         0.005125             0.97  \n",
      "1        OZ    0.302217         0.029783             4.88  \n",
      "2        CT    0.499167              NaN             6.99  \n",
      "3        ML       0.023              NaN            14.51  \n",
      "4        OZ    0.479167         0.016833             1.78  \n",
      "...     ...         ...              ...              ...  \n",
      "4979    NaN         NaN              NaN              NaN  \n",
      "4980    NaN         NaN              NaN              NaN  \n",
      "4981    NaN         NaN              NaN              NaN  \n",
      "4982     ML    0.038653              NaN             18.8  \n",
      "4983     ML    0.039587              NaN             16.7  \n",
      "\n",
      "[4984 rows x 17 columns]\n"
     ]
    }
   ],
   "source": [
    "# Go through each row of full df\n",
    "# If the Units from unit x and unit y are the same, then do abs(unit x - unit y) as the unit difference otherwise none\n",
    "# have the price difference be the absolute value of price x - price y\n",
    "full_df[\"Unit_Difference\"] = full_df.apply(\n",
    "    lambda row: abs(row[\"UnitPrice_x\"] - row[\"UnitPrice_y\"]) \n",
    "    if row[\"Unit_x\"] == row[\"Unit_y\"] else None, \n",
    "    axis=1\n",
    ")\n",
    "\n",
    "# Compute price difference\n",
    "full_df[\"Price_Difference\"] = abs(full_df[\"Price_x\"] - full_df[\"Price_y\"])\n",
    "print(full_df)"
   ]
  },
  {
   "cell_type": "code",
   "execution_count": 41,
   "metadata": {},
   "outputs": [],
   "source": [
    "full_df.to_csv(\"full_df.csv\", index=False)"
   ]
  },
  {
   "cell_type": "code",
   "execution_count": null,
   "metadata": {},
   "outputs": [
    {
     "name": "stdout",
     "output_type": "stream",
     "text": [
      "(43, 17)\n",
      "Sorted by Unit Difference:\n",
      "899     0.199269\n",
      "424     0.179125\n",
      "866     0.093000\n",
      "382     0.070500\n",
      "4783    0.064407\n",
      "900     0.051182\n",
      "1287    0.044635\n",
      "423     0.043000\n",
      "198     0.041124\n",
      "2306    0.033595\n",
      "850     0.030704\n",
      "902     0.027576\n",
      "851     0.022565\n",
      "199     0.017708\n",
      "1153    0.017571\n",
      "939     0.017333\n",
      "1151    0.003258\n",
      "44      0.000571\n",
      "1152    0.000310\n",
      "15           NaN\n",
      "161          NaN\n",
      "162          NaN\n",
      "938          NaN\n",
      "1231         NaN\n",
      "1232         NaN\n",
      "1370         NaN\n",
      "1773         NaN\n",
      "1956         NaN\n",
      "2032         NaN\n",
      "2331         NaN\n",
      "2807         NaN\n",
      "3265         NaN\n",
      "3346         NaN\n",
      "3459         NaN\n",
      "3639         NaN\n",
      "3923         NaN\n",
      "3924         NaN\n",
      "4060         NaN\n",
      "4334         NaN\n",
      "4379         NaN\n",
      "4427         NaN\n",
      "4624         NaN\n",
      "4814         NaN\n",
      "Name: Unit_Difference, dtype: float64\n"
     ]
    }
   ],
   "source": [
    "sub_df = full_df[full_df[\"Match_Score\"] > MATCH_SCORE_THRESHOLD]\n",
    "\n",
    "# Display the sub_df to verify\n",
    "print(sub_df.shape)\n",
    "\n",
    "# Sort by Price_Difference (ascending order)\n",
    "sorted_by_price = sub_df.sort_values(by=\"Price_Difference\", ascending=False)\n",
    "\n",
    "# Sort by Unit_Difference (ascending order)\n",
    "sorted_by_unit = sub_df.sort_values(by=\"Unit_Difference\", ascending=False)\n",
    "\n",
    "sorted_by_price.to_csv(\"sorted_by_price.csv\", index=False)\n",
    "sorted_by_unit.to_csv(\"sorted_by_unit.csv\", index=False)\n",
    "\n",
    "# Optionally, print confirmation\n",
    "print(\"Sorted DataFrames saved successfully.\")\n"
   ]
  }
 ],
 "metadata": {
  "kernelspec": {
   "display_name": "betterbasketvenv",
   "language": "python",
   "name": "python3"
  },
  "language_info": {
   "codemirror_mode": {
    "name": "ipython",
    "version": 3
   },
   "file_extension": ".py",
   "mimetype": "text/x-python",
   "name": "python",
   "nbconvert_exporter": "python",
   "pygments_lexer": "ipython3",
   "version": "3.12.9"
  }
 },
 "nbformat": 4,
 "nbformat_minor": 2
}
